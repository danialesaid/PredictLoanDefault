{
 "cells": [
  {
   "cell_type": "code",
   "execution_count": 7,
   "metadata": {},
   "outputs": [],
   "source": [
    "import pandas\n",
    "import numpy\n",
    "import tensorflow\n",
    "import matplotlib.pyplot\n",
    "from sklearn.preprocessing import MinMaxScaler\n",
    "from sklearn.metrics import accuracy_score\n",
    "from keras.models import Sequential\n",
    "from keras.layers import Dense, Dropout\n",
    "\n",
    "#load the csv file and rename the columns\n",
    "loanDefaultDataset = pandas.read_csv( 'LoanDefaultData.csv' )\n",
    "\n",
    "loanDefaultDataset.rename( { 'BAD': 'defaultResult', 'LOAN': 'loanRequested', 'MORTDUE': 'currentMortageDue',\\\n",
    "                             'VALUE': 'currentPropertyValue', 'REASON': 'reasonForRequest', 'JOB': 'Job',\\\n",
    "                             'YOJ': 'yearsAtJob', 'DEROG': 'derogatoryReports', 'DELINQ': 'delinquentLines',\\\n",
    "                             'CLAGE': 'ageOldestTradeLine', 'NINQ': 'recentCreditLines', 'CLNO': 'totalCreditLines',\\\n",
    "                             'DEBTINC': 'debtToIncome' }, inplace = True, axis = 'columns' )\n",
    "\n",
    "#shuffle the dataframe\n",
    "loanDefaultDataset.reindex( numpy.random.permutation( loanDefaultDataset.index ) );"
   ]
  },
  {
   "cell_type": "code",
   "execution_count": 8,
   "metadata": {},
   "outputs": [],
   "source": [
    "\n",
    "#replace nan values with averages and modes\n",
    "loanDefaultDataset.currentMortageDue.fillna( loanDefaultDataset.currentMortageDue.mean(), inplace = True )\n",
    "\n",
    "loanDefaultDataset.currentPropertyValue.fillna( loanDefaultDataset.currentPropertyValue.mean(), inplace = True )\n",
    "\n",
    "loanDefaultDataset.reasonForRequest.fillna( loanDefaultDataset.reasonForRequest.mode().iloc[ 0 ] , inplace = True )\n",
    "\n",
    "loanDefaultDataset.Job.fillna( loanDefaultDataset.Job.mode().iloc[ 0 ], inplace = True )\n",
    "\n",
    "loanDefaultDataset.yearsAtJob.fillna( loanDefaultDataset.yearsAtJob.mean(), inplace = True )\n",
    "\n",
    "loanDefaultDataset.derogatoryReports.fillna( loanDefaultDataset.derogatoryReports.mode().iloc[ 0 ], inplace = True )\n",
    "\n",
    "loanDefaultDataset.delinquentLines.fillna( loanDefaultDataset.delinquentLines.mode().iloc[ 0 ], inplace = True )\n",
    "\n",
    "loanDefaultDataset.ageOldestTradeLine.fillna( loanDefaultDataset.ageOldestTradeLine.mean(), inplace = True )\n",
    "\n",
    "loanDefaultDataset.recentCreditLines.fillna( loanDefaultDataset.recentCreditLines.mode().iloc[ 0 ], inplace = True )\n",
    "\n",
    "loanDefaultDataset.totalCreditLines.fillna( loanDefaultDataset.totalCreditLines.mode().iloc[ 0 ], inplace = True )\n",
    "\n",
    "loanDefaultDataset.debtToIncome.fillna( loanDefaultDataset.debtToIncome.mean(), inplace = True )\n",
    "\n",
    "#one hot encode the dataframe\n",
    "loanDefaultDataset = pandas.get_dummies( loanDefaultDataset )"
   ]
  },
  {
   "cell_type": "code",
   "execution_count": 9,
   "metadata": {},
   "outputs": [],
   "source": [
    "#normalize the data\n",
    "loanDefaultDatasetColumns = loanDefaultDataset.columns\n",
    "\n",
    "SklearnMinMaxScaler = MinMaxScaler( copy = False )\n",
    "\n",
    "SklearnMinMaxScaler.fit( loanDefaultDataset )\n",
    "\n",
    "loanDefaultDataset = SklearnMinMaxScaler.transform( loanDefaultDataset )\n",
    "\n",
    "loanDefaultDataset = pandas.DataFrame( loanDefaultDataset, columns = loanDefaultDatasetColumns );\n",
    "\n"
   ]
  },
  {
   "cell_type": "code",
   "execution_count": 10,
   "metadata": {},
   "outputs": [],
   "source": [
    "#split the data into train, validation and test sets\n",
    "loanDefaultDataSetTargets = loanDefaultDataset[ 'defaultResult' ]\n",
    "loanDefaultDataSetFeatures = loanDefaultDataset.drop( [ 'defaultResult' ], axis = 'columns' )\n",
    "\n",
    "\n",
    "loanDefaultDataSetTargetsTrain = loanDefaultDataSetTargets[ :3500 ]\n",
    "loanDefaultDataSetTargetsValidation = loanDefaultDataSetTargets[ 3500:4600 ]\n",
    "loanDefaultDataSetTargetsTest =  loanDefaultDataSetTargets[ 4600: ]\n",
    "\n",
    "\n",
    "loanDefaultDataSetFeaturesTrain = loanDefaultDataSetFeatures[ :3500 ]\n",
    "loanDefaultDataSetFeaturesValidation = loanDefaultDataSetFeatures[ 3500:4600 ]\n",
    "loanDefaultDataSetFeaturesTest =  loanDefaultDataSetFeatures[ 4600: ]\n"
   ]
  },
  {
   "cell_type": "code",
   "execution_count": 40,
   "metadata": {},
   "outputs": [],
   "source": [
    "#find best parameters for binary classifier\n",
    "binaryClassifier = Sequential()\n",
    "\n",
    "\n",
    "loanDefaultDataSetFeatures.shape \n",
    "binaryClassifier.add( Dense( 64, activation = 'relu', input_shape = ( 18, ) ) )\n",
    "binaryClassifier.add( Dropout( 0.55 ) )\n",
    "binaryClassifier.add( Dense( 64, activation = 'relu' ) )\n",
    "binaryClassifier.add( Dropout( 0.55 ) )\n",
    "binaryClassifier.add( Dense( 1, activation = 'sigmoid' ) )\n",
    "\n",
    "\n",
    "binaryClassifier.compile(optimizer = 'rmsprop', \n",
    "                         loss = 'binary_crossentropy', \n",
    "                         metrics = [ 'binary_accuracy' ])\n",
    "\n",
    "\n",
    "binaryClassifierHistory = binaryClassifier.fit(loanDefaultDataSetFeaturesTrain, \n",
    "                         loanDefaultDataSetTargetsTrain, \n",
    "                         batch_size = 128, \n",
    "                         epochs = 100,\n",
    "                         validation_data = ( loanDefaultDataSetFeaturesValidation, loanDefaultDataSetTargetsValidation ),\n",
    "                         verbose = False);\n",
    "\n",
    "\n",
    "binaryClassifierHistory = binaryClassifierHistory.history"
   ]
  },
  {
   "cell_type": "code",
   "execution_count": 41,
   "metadata": {
    "scrolled": true
   },
   "outputs": [
    {
     "data": {
      "image/png": "[encoded data removed]",
      "text/plain": [
       "<Figure size 432x288 with 1 Axes>"
      ]
     },
     "metadata": {},
     "output_type": "display_data"
    }
   ],
   "source": [
    "#plot validation accuracy\n",
    "validationBinaryAccuracy = binaryClassifierHistory[ 'val_binary_accuracy' ] \n",
    "\n",
    "\n",
    "matplotlib.pyplot.plot( range( 100 ), validationBinaryAccuracy );\n",
    "\n",
    "\n"
   ]
  },
  {
   "cell_type": "code",
   "execution_count": 30,
   "metadata": {},
   "outputs": [],
   "source": [
    "\n",
    "#train classifier with best parameters found on all train data\n",
    "featuresTrainFinal = pandas.concat([loanDefaultDataSetFeaturesTrain,\n",
    "                                    loanDefaultDataSetFeaturesValidation],\n",
    "                                    axis = 0)\n",
    "\n",
    "targetsTrainFinal = pandas.concat([loanDefaultDataSetTargetsTrain, \n",
    "                                    loanDefaultDataSetTargetsValidation],\n",
    "                                    axis = 0)\n",
    "\n",
    "\n",
    "historyFinal = binaryClassifier.fit(featuresTrainFinal, \n",
    "                                    targetsTrainFinal, \n",
    "                                    batch_size = 128, \n",
    "                                    epochs = 50,\n",
    "                                    validation_data = ( loanDefaultDataSetFeaturesTest, loanDefaultDataSetTargetsTest ),\n",
    "                                   verbose = False);\n",
    "\n",
    "\n",
    "historyFinal = historyFinal.history\n",
    "\n",
    "      \n",
    "    "
   ]
  },
  {
   "cell_type": "code",
   "execution_count": 31,
   "metadata": {},
   "outputs": [
    {
     "name": "stdout",
     "output_type": "stream",
     "text": [
      "final binary accuracy: 0.8316176484612857\n"
     ]
    }
   ],
   "source": [
    "#output final accuracy\n",
    "print( 'final binary accuracy:', historyFinal[ 'val_binary_accuracy' ][209] )"
   ]
  }
 ],
 "metadata": {
  "kernelspec": {
   "display_name": "Python 3",
   "language": "python",
   "name": "python3"
  },
  "language_info": {
   "codemirror_mode": {
    "name": "ipython",
    "version": 3
   },
   "file_extension": ".py",
   "mimetype": "text/x-python",
   "name": "python",
   "nbconvert_exporter": "python",
   "pygments_lexer": "ipython3",
   "version": "3.6.5"
  }
 },
 "nbformat": 4,
 "nbformat_minor": 2
}
